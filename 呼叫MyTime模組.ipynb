{
 "cells": [
  {
   "cell_type": "code",
   "execution_count": 2,
   "id": "467aba9f-553c-43ec-9d84-50954a0008b1",
   "metadata": {},
   "outputs": [
    {
     "name": "stdout",
     "output_type": "stream",
     "text": [
      "現在時間：2024-09-16 18-12-28\n"
     ]
    }
   ],
   "source": [
    "import MyTime\n",
    "print(\"現在時間：\"+MyTime.GetTime(\"%Y-%m-%d %H-%M-%S\"))"
   ]
  }
 ],
 "metadata": {
  "kernelspec": {
   "display_name": "Python 3 (ipykernel)",
   "language": "python",
   "name": "python3"
  },
  "language_info": {
   "codemirror_mode": {
    "name": "ipython",
    "version": 3
   },
   "file_extension": ".py",
   "mimetype": "text/x-python",
   "name": "python",
   "nbconvert_exporter": "python",
   "pygments_lexer": "ipython3",
   "version": "3.12.4"
  }
 },
 "nbformat": 4,
 "nbformat_minor": 5
}
